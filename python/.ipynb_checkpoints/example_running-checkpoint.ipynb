{
 "cells": [
  {
   "cell_type": "code",
   "execution_count": null,
   "metadata": {
    "collapsed": false,
    "deletable": true,
    "editable": true
   },
   "outputs": [],
   "source": [
    "import asap_cpu\n",
    "import numpy as np\n",
    "pwc_mat = np.array([[0,1,2,3,1],\n",
    "                    [1,0,2,3,1],\n",
    "                    [1,2,0,3,1],\n",
    "                    [1,2,3,0,1],\n",
    "                    [1,2,3,1,0]])\n",
    "\n",
    "asap = asap_cpu.ASAP(5)\n",
    "pairs_to_compare = asap.run_asap(pwc_mat)\n",
    "\n",
    "print(\"Indeces from pwc_mat to compare:\")\n",
    "print(pairs_to_compare)"
   ]
  }
 ],
 "metadata": {
  "kernelspec": {
   "display_name": "Python 3",
   "language": "python",
   "name": "python3"
  },
  "language_info": {
   "codemirror_mode": {
    "name": "ipython",
    "version": 3
   },
   "file_extension": ".py",
   "mimetype": "text/x-python",
   "name": "python",
   "nbconvert_exporter": "python",
   "pygments_lexer": "ipython3",
   "version": "3.6.1"
  }
 },
 "nbformat": 4,
 "nbformat_minor": 2
}
