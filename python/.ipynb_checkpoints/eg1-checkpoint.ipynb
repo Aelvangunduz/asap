{
 "cells": [
  {
   "cell_type": "code",
   "execution_count": 2,
   "metadata": {
    "collapsed": false
   },
   "outputs": [],
   "source": [
    "import asap_cpu\n",
    "import numpy as np\n",
    "pwc_mat = np.array([[0,1,2,3,1],[1,0,2,3,1],[1,2,0,3,1],[1,2,3,0,1],[1,2,3,1,0]])\n",
    "asap = asap_cpu.ASAP(5)\n",
    "pairs_to_compare = asap.run_asap(pwc_mat)"
   ]
  },
  {
   "cell_type": "code",
   "execution_count": 3,
   "metadata": {
    "collapsed": false
   },
   "outputs": [
    {
     "name": "stdout",
     "output_type": "stream",
     "text": [
      "[[0 4]\n",
      " [2 4]\n",
      " [0 1]\n",
      " [0 3]]\n"
     ]
    }
   ],
   "source": [
    "print(\"Indeces from pwc_mat to compare\")\n",
    "print(pairs_to_compare)"
   ]
  },
  {
   "cell_type": "code",
   "execution_count": null,
   "metadata": {
    "collapsed": true
   },
   "outputs": [],
   "source": []
  }
 ],
 "metadata": {
  "kernelspec": {
   "display_name": "Python 3",
   "language": "python",
   "name": "python3"
  },
  "language_info": {
   "codemirror_mode": {
    "name": "ipython",
    "version": 3
   },
   "file_extension": ".py",
   "mimetype": "text/x-python",
   "name": "python",
   "nbconvert_exporter": "python",
   "pygments_lexer": "ipython3",
   "version": "3.6.1"
  }
 },
 "nbformat": 4,
 "nbformat_minor": 2
}
